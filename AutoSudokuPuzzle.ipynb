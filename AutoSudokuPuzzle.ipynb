{
  "nbformat": 4,
  "nbformat_minor": 0,
  "metadata": {
    "colab": {
      "provenance": [],
      "authorship_tag": "ABX9TyNx2Lp0irqNS6EwVfDzqK6h",
      "include_colab_link": true
    },
    "kernelspec": {
      "name": "python3",
      "display_name": "Python 3"
    },
    "language_info": {
      "name": "python"
    }
  },
  "cells": [
    {
      "cell_type": "markdown",
      "metadata": {
        "id": "view-in-github",
        "colab_type": "text"
      },
      "source": [
        "<a href=\"https://colab.research.google.com/github/kiranPahade/Sudoku-Solver-Python/blob/main/AutoSudokuPuzzle.ipynb\" target=\"_parent\"><img src=\"https://colab.research.google.com/assets/colab-badge.svg\" alt=\"Open In Colab\"/></a>"
      ]
    },
    {
      "cell_type": "code",
      "source": [
        "# Let define the is_valid(a,b,c,d)\n",
        "def is_valid(grid, num, row, col):\n",
        "    # Check row\n",
        "    for x in range(9):\n",
        "        if grid[row][x] == num:\n",
        "            return False\n",
        "\n",
        "    # Check column\n",
        "    for x in range(9):\n",
        "        if grid[x][col] == num:\n",
        "            return False\n",
        "\n",
        "    # Check 3x3 subgrid\n",
        "    start_row = row - row % 3\n",
        "    start_col = col - col % 3\n",
        "    for i in range(3):\n",
        "        for j in range(3):\n",
        "            if grid[i + start_row][j + start_col] == num:\n",
        "                return False\n",
        "    return True\n",
        "#define a solve_sudoku(grid)\n",
        "def solve_sudoku(grid):\n",
        "    for row in range(9):\n",
        "        for col in range(9):\n",
        "            if grid[row][col] == 0:\n",
        "                for num in range(1, 10):\n",
        "                    if is_valid(grid, num, row, col):\n",
        "                        grid[row][col] = num\n",
        "                        if solve_sudoku(grid):\n",
        "                            return True\n",
        "                        grid[row][col] = 0  # Backtrack\n",
        "                return False  # No number worked for this cell\n",
        "    return True  # No empty cells left, puzzle solved\n",
        "\n",
        "# Example Sudoku grid (0 represents empty cells)\n",
        "grid = [\n",
        "    [5, 3, 0, 0, 7, 0, 0, 0, 0],\n",
        "    [6, 0, 0, 1, 9, 5, 0, 0, 0],\n",
        "    [0, 9, 8, 0, 0, 0, 0, 6, 0],\n",
        "    [8, 0, 0, 0, 6, 0, 0, 0, 3],\n",
        "    [4, 0, 0, 8, 0, 3, 0, 0, 1],\n",
        "    [7, 0, 0, 0, 2, 0, 0, 0, 6],\n",
        "    [0, 6, 0, 0, 0, 0, 2, 8, 0],\n",
        "    [0, 0, 0, 4, 1, 9, 0, 0, 5],\n",
        "    [0, 0, 0, 0, 8, 0, 0, 7, 9]\n",
        "]\n",
        "\n",
        "if solve_sudoku(grid):\n",
        "    for row in grid:\n",
        "        print(row)\n",
        "else:\n",
        "    print(\"No solution exists\")"
      ],
      "metadata": {
        "id": "AV0kZf72FB1u"
      },
      "execution_count": null,
      "outputs": []
    }
  ]
}